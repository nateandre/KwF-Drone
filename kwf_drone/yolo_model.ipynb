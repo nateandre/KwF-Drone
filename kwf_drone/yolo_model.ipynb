{
 "cells": [
  {
   "cell_type": "markdown",
   "metadata": {},
   "source": [
    "## Yolo Darknet-19 model\n",
    "\n",
    "We are the yolo2 Darknet-19 forward propagation as we believe it is the optimal tradeoff between predictive performance and computational performance. Further, given that this model is intended to be used for onboard processing, we are further reducing the complexity of the model by having it only learn a single bounding box shape, bounding the number of channels of the output at 29 - thus the output shape will be 19x19x29."
   ]
  },
  {
   "cell_type": "code",
   "execution_count": 1,
   "metadata": {},
   "outputs": [
    {
     "name": "stderr",
     "output_type": "stream",
     "text": [
      "Using TensorFlow backend.\n"
     ]
    }
   ],
   "source": [
    "import numpy as np\n",
    "import tensorflow as tf\n",
    "from keras import backend as K\n",
    "from sklearn.utils import shuffle\n",
    "\n",
    "import warnings\n",
    "warnings.filterwarnings('ignore')"
   ]
  },
  {
   "cell_type": "code",
   "execution_count": 2,
   "metadata": {},
   "outputs": [
    {
     "name": "stdout",
     "output_type": "stream",
     "text": [
      "(2, 608, 608, 3)\n",
      "(2, 19, 19, 29)\n"
     ]
    }
   ],
   "source": [
    "images = np.load(\"../data/kwf/images.npy\")\n",
    "encodings = np.load(\"../data/kwf/encodings.npy\")\n",
    "print(images.shape)\n",
    "print(encodings.shape)"
   ]
  },
  {
   "cell_type": "markdown",
   "metadata": {},
   "source": [
    "## Model architecture"
   ]
  },
  {
   "cell_type": "markdown",
   "metadata": {},
   "source": [
    "### Model Forward Prop"
   ]
  },
  {
   "cell_type": "code",
   "execution_count": 3,
   "metadata": {},
   "outputs": [],
   "source": [
    "# Placeholder values for input X,y data\n",
    "def get_placeholders(x_h,x_w,x_c,y_h,y_w,y_c):\n",
    "    \"\"\"\n",
    "    x_h: Height for x input \n",
    "    x_w: Width for x input\n",
    "    x_c: Channels for x input\n",
    "    y_h: Height for y input\n",
    "    y_w: Width for y input\n",
    "    y_c: Channels for y input\n",
    "    \"\"\"\n",
    "    X = tf.placeholder(tf.float32, name=\"X\", shape=(None,x_h,x_w,x_c))\n",
    "    y = tf.placeholder(tf.float32, name=\"y\", shape=(None,y_h,y_w,y_c))\n",
    "    return X,y"
   ]
  },
  {
   "cell_type": "code",
   "execution_count": 4,
   "metadata": {},
   "outputs": [],
   "source": [
    "# Defining constant layer for 2d convolution, batch norm, and activation\n",
    "def conv(the_input,layer,f,ks):\n",
    "    \"\"\"\n",
    "    the_input: the layer which will be used as input in conv layer\n",
    "    layer: specifies the layer number for naming sections of graph\n",
    "    f (filters): the number of filters to be used for conv layer\n",
    "    ks (kernel_size): kernel size for conv2d layer\n",
    "    Note - conv2d layers all use padding\n",
    "    \"\"\"\n",
    "    layer = str(layer)\n",
    "    Z = tf.layers.conv2d(the_input,filters=f,kernel_size=[ks,ks],strides=(1,1),padding=\"same\",name=\"Z\"+layer,kernel_initializer=tf.contrib.layers.xavier_initializer(seed=0))\n",
    "    Bn = tf.layers.batch_normalization(Z,name=\"Bn\"+layer)\n",
    "    A = tf.nn.leaky_relu(Bn,alpha=0.1,name=\"A\"+layer)\n",
    "    return A"
   ]
  },
  {
   "cell_type": "code",
   "execution_count": 5,
   "metadata": {},
   "outputs": [],
   "source": [
    "# Building the forward pass based on Darket-19\n",
    "# Note - forward pass will use leaky_relu\n",
    "def forward_pass(X):\n",
    "    input_layer = tf.reshape(X,[-1,608,608,3]) # Input shape of images\n",
    "    S1 = conv(input_layer,1,32,3)\n",
    "    P1 = tf.layers.max_pooling2d(S1,pool_size=[2,2],strides=2,padding=\"valid\",name=\"P1\") # 224x224\n",
    "    S2 = conv(P1,2,64,3)\n",
    "    P2 = tf.layers.max_pooling2d(S2,pool_size=[2,2],strides=2,padding=\"valid\",name=\"P2\") # 112x112\n",
    "    S3 = conv(P2,3,128,3)\n",
    "    S4 = conv(S3,4,64,1)\n",
    "    S5 = conv(S4,5,128,3)\n",
    "    P5 = tf.layers.max_pooling2d(S5,pool_size=[2,2],strides=2,padding=\"valid\",name=\"P5\") # 56x56\n",
    "    S6 = conv(P5,6,256,3)\n",
    "    S7 = conv(S6,7,128,1)\n",
    "    S8 = conv(S7,8,256,3)\n",
    "    P8 = tf.layers.max_pooling2d(S8,pool_size=[2,2],strides=2,padding=\"valid\",name=\"P8\") # 28x28\n",
    "    S9 = conv(P8,9,512,3)\n",
    "    S10 = conv(S9,10,256,1)\n",
    "    S11 = conv(S10,11,512,3)\n",
    "    S12 = conv(S11,12,256,1)\n",
    "    S13 = conv(S12,13,512,3)\n",
    "    P13 = tf.layers.max_pooling2d(S13,pool_size=[2,2],strides=2,padding=\"valid\",name=\"P13\") #14x14\n",
    "    S14 = conv(P13,14,1024,3)\n",
    "    S15 = conv(S14,15,512,1)\n",
    "    S16 = conv(S15,16,1024,3)\n",
    "    S17 = conv(S16,17,512,1)\n",
    "    S18 = conv(S17,18,2014,3)\n",
    "    # Final layer - no batch norm, linear activation\n",
    "    S19 = tf.layers.conv2d(S18,filters=29,kernel_size=[1,1],strides=(1,1),padding=\"valid\",name=\"S19\",activation=None)\n",
    "    return S19"
   ]
  },
  {
   "cell_type": "code",
   "execution_count": 6,
   "metadata": {},
   "outputs": [
    {
     "name": "stdout",
     "output_type": "stream",
     "text": [
      "Z shape: (1, 19, 19, 29)\n"
     ]
    }
   ],
   "source": [
    "# Testing forward prop\n",
    "tf.reset_default_graph()\n",
    "ax = np.zeros((1,608,608,3))\n",
    "X,y = get_placeholders(608,608,3,19,19,29)\n",
    "Z19 = forward_pass(X)\n",
    "\n",
    "init = tf.global_variables_initializer()\n",
    "with tf.Session() as sess:\n",
    "    sess.run(init)\n",
    "    aZ = sess.run(Z19,feed_dict={X:ax})\n",
    "    print(\"Z shape:\", str(aZ.shape))"
   ]
  },
  {
   "cell_type": "markdown",
   "metadata": {},
   "source": [
    "### Model Cost"
   ]
  },
  {
   "cell_type": "code",
   "execution_count": 7,
   "metadata": {},
   "outputs": [],
   "source": [
    "# Returns the values with a specific mask applied to it\n",
    "# Returns all values with the exception of values related to object classes\n",
    "def get_box_values(box,mask):\n",
    "    confidence = tf.boolean_mask(box[:,:,:,0:1],mask)\n",
    "    mid_x = tf.boolean_mask(box[:,:,:,1:2],mask)\n",
    "    mid_y = tf.boolean_mask(box[:,:,:,2:3],mask)\n",
    "    width = tf.boolean_mask(box[:,:,:,3:4],mask)\n",
    "    length = tf.boolean_mask(box[:,:,:,4:5],mask)\n",
    "    box = {\"co\":confidence, \"mx\":mid_x,\"my\":mid_y,\"w\":width,\"l\":length}\n",
    "    return box"
   ]
  },
  {
   "cell_type": "code",
   "execution_count": 8,
   "metadata": {},
   "outputs": [],
   "source": [
    "# Returns the class predictions with a specific mask applied to a it\n",
    "def get_class_values(box,mask):\n",
    "    values = tf.boolean_mask(box[:,:,:,5:],mask)\n",
    "    return values"
   ]
  },
  {
   "cell_type": "code",
   "execution_count": 9,
   "metadata": {},
   "outputs": [],
   "source": [
    "# Heavily penalizes negative predictions for height and weight\n",
    "def cost_function(Z,y,coord=5,noobj=0.5):\n",
    "    \"\"\"\n",
    "    Z - shape (None,19,19,29)\n",
    "    y - shape (None,19,19,29)\n",
    "    \"\"\"\n",
    "    c_mask_true = y[:,:,:,0:1] > 0\n",
    "    c_mask_false = y[:,:,:,0:1] < 1\n",
    "    \n",
    "    y_t = get_box_values(y,c_mask_true) # values when there is an object\n",
    "    z_t = get_box_values(Z,c_mask_true)\n",
    "    z_f = get_box_values(Z,c_mask_false) # values when there is not an object\n",
    "    y_f = get_box_values(y,c_mask_false)\n",
    "    \n",
    "    # penalizing length,width predictions if they are negative\n",
    "    z_t[\"w\"] = tf.sqrt(tf.maximum(z_t[\"w\"],0.0))\n",
    "    z_t[\"l\"] = tf.sqrt(tf.maximum(z_t[\"l\"],0.0))\n",
    "    y_t[\"w\"] = tf.sqrt(y_t[\"w\"])\n",
    "    y_t[\"l\"] = tf.sqrt(y_t[\"l\"])\n",
    "    \n",
    "    class_mask_true = tf.concat([c_mask_true for i in range(24)],axis=-1) # used for comparing class predictions\n",
    "    y_classes = get_class_values(y,class_mask_true) # getting the class predictions and actual values\n",
    "    z_classes = get_class_values(Z,class_mask_true)\n",
    "    \n",
    "    # summation of all of the components of the cost function\n",
    "    part1 = coord * (tf.reduce_sum(tf.square(y_t[\"mx\"]-z_t[\"mx\"]))+tf.reduce_sum(tf.square(y_t[\"my\"]-z_t[\"my\"])))\n",
    "    part2 = coord * (tf.reduce_sum(tf.square(y_t[\"w\"]-z_t[\"w\"]))+tf.reduce_sum(tf.square(y_t[\"l\"]-z_t[\"l\"])))\n",
    "    part3 = coord * tf.reduce_sum(tf.square(y_t[\"co\"]-z_t[\"co\"]))\n",
    "    part4 = noobj * (tf.reduce_sum(tf.square(y_f[\"co\"]-z_f[\"co\"])))\n",
    "    part5 = tf.reduce_sum(tf.square(y_classes - z_classes))\n",
    "    \n",
    "    total_cost = part1 + part2 + part3 + part4 + part5\n",
    "    return total_cost"
   ]
  },
  {
   "cell_type": "code",
   "execution_count": 10,
   "metadata": {},
   "outputs": [
    {
     "name": "stdout",
     "output_type": "stream",
     "text": [
      "86.50913\n"
     ]
    }
   ],
   "source": [
    "# testing cost function\n",
    "tf.reset_default_graph()\n",
    "ax = images[0,:,:,:]\n",
    "ax.shape = (1,608,608,3)\n",
    "ay = encodings[0,:,:,:]\n",
    "ay.shape = (1,19,19,29)\n",
    "\n",
    "X,y = get_placeholders(608,608,3,19,19,29)\n",
    "Z = forward_pass(X)\n",
    "cost = cost_function(Z,y)\n",
    "\n",
    "init = tf.global_variables_initializer()\n",
    "with tf.Session() as sess:\n",
    "    sess.run(init)\n",
    "    acost = sess.run(cost,feed_dict={X:ax,y:ay})\n",
    "    print(acost)"
   ]
  },
  {
   "cell_type": "markdown",
   "metadata": {},
   "source": [
    "### Model training"
   ]
  },
  {
   "cell_type": "code",
   "execution_count": 11,
   "metadata": {},
   "outputs": [],
   "source": [
    "# Building and training YOLO model using stochastic gradient descent\n",
    "def model(X_train,y_train,lr=0.001,num_epochs=50,retrain=True):\n",
    "    tf.reset_default_graph() # resetting graph\n",
    "    seed = 0\n",
    "    costs=[]\n",
    "    x_h = X_train[0].shape[0]\n",
    "    x_w = X_train[0].shape[1]\n",
    "    x_c = X_train[0].shape[2]\n",
    "    y_h = y_train[0].shape[0]\n",
    "    y_w = y_train[0].shape[1]\n",
    "    y_c = y_train[0].shape[2]\n",
    "    m = X_train.shape[0]\n",
    "    \n",
    "    X,y = get_placeholders(x_h,x_w,x_c,y_h,y_w,y_c)\n",
    "    Z = forward_pass(X)\n",
    "    cost = cost_function(Z,y)\n",
    "    optimizer = tf.train.AdamOptimizer(learning_rate=lr).minimize(cost)\n",
    "    \n",
    "    init = tf.global_variables_initializer()\n",
    "    saver = tf.train.Saver() # to save/load model\n",
    "    with tf.Session() as sess:\n",
    "        if retrain: # Loading saved model\n",
    "            saver = tf.train.import_meta_graph(\"../data/kwf/model/yolo_model.ckpt.meta\")\n",
    "            saver.restore(sess, \"../data/kwf/model/yolo_model.ckpt\")\n",
    "        else:\n",
    "            sess.run(init) # DON'T RUN INIT IF LOADING MODEL\n",
    "        \n",
    "        for epoch in range(num_epochs):\n",
    "            running_cost = 0\n",
    "            # shuffling training set order each iteration\n",
    "            seed += 1\n",
    "            X_train = shuffle(X_train, random_state=seed) \n",
    "            y_train = shuffle(y_train, random_state=seed)\n",
    "            \n",
    "            for i in range(m):\n",
    "                aX = X_train[i]\n",
    "                aX.shape = (1,608,608,3)\n",
    "                aY = y_train[i]\n",
    "                aY.shape = (1,19,19,29)\n",
    "                _,temp_cost = sess.run([optimizer,cost], feed_dict={X:aX,y:aY})\n",
    "                running_cost += temp_cost\n",
    "                \n",
    "            costs.append(running_cost)\n",
    "            if epoch % 1 == 0:\n",
    "                print(\"Cost at epoch {}: {}\".format(epoch+1,running_cost))\n",
    "                \n",
    "            loc = saver.save(sess, \"../data/kwf/model/yolo_model.ckpt\") # save on each iteration\n",
    "            \n",
    "        return costs"
   ]
  },
  {
   "cell_type": "code",
   "execution_count": 12,
   "metadata": {
    "scrolled": true
   },
   "outputs": [
    {
     "name": "stdout",
     "output_type": "stream",
     "text": [
      "Cost at epoch 1: 164.20943450927734\n",
      "Cost at epoch 2: 149.11538696289062\n",
      "Cost at epoch 3: 127.4526252746582\n",
      "Cost at epoch 4: 114.4884033203125\n",
      "Cost at epoch 5: 99.84981918334961\n",
      "Cost at epoch 6: 92.98131561279297\n",
      "Cost at epoch 7: 87.0133056640625\n",
      "Cost at epoch 8: 85.81857299804688\n",
      "Cost at epoch 9: 82.86302185058594\n",
      "Cost at epoch 10: 82.72016906738281\n",
      "Cost at epoch 11: 81.21874618530273\n",
      "Cost at epoch 12: 79.26150131225586\n",
      "Cost at epoch 13: 79.14120483398438\n",
      "Cost at epoch 14: 78.9744873046875\n",
      "Cost at epoch 15: 78.26687240600586\n",
      "Cost at epoch 16: 78.28759384155273\n",
      "Cost at epoch 17: 78.0519790649414\n",
      "Cost at epoch 18: 78.05060958862305\n",
      "Cost at epoch 19: 77.36442565917969\n",
      "Cost at epoch 20: 77.31285095214844\n",
      "Cost at epoch 21: 76.3337173461914\n",
      "Cost at epoch 22: 76.5740852355957\n",
      "Cost at epoch 23: 75.50202941894531\n",
      "Cost at epoch 24: 74.74937438964844\n",
      "Cost at epoch 25: 74.06693649291992\n",
      "Cost at epoch 26: 75.49128723144531\n",
      "Cost at epoch 27: 85.47685623168945\n",
      "Cost at epoch 28: 77.23991394042969\n",
      "Cost at epoch 29: 78.57374954223633\n",
      "Cost at epoch 30: 75.80140686035156\n",
      "Cost at epoch 31: 75.35876083374023\n",
      "Cost at epoch 32: 75.66012954711914\n",
      "Cost at epoch 33: 74.48908996582031\n",
      "Cost at epoch 34: 73.25213623046875\n",
      "Cost at epoch 35: 73.62521362304688\n",
      "Cost at epoch 36: 72.67110443115234\n",
      "Cost at epoch 37: 71.61445236206055\n",
      "Cost at epoch 38: 71.40730285644531\n",
      "Cost at epoch 39: 70.56361770629883\n",
      "Cost at epoch 40: 70.3861083984375\n",
      "Cost at epoch 41: 70.26992416381836\n",
      "Cost at epoch 42: 70.12946701049805\n",
      "Cost at epoch 43: 69.81022644042969\n",
      "Cost at epoch 44: 69.87400817871094\n",
      "Cost at epoch 45: 69.48491287231445\n",
      "Cost at epoch 46: 68.098388671875\n",
      "Cost at epoch 47: 67.70647430419922\n",
      "Cost at epoch 48: 66.82520294189453\n",
      "Cost at epoch 49: 65.90142059326172\n",
      "Cost at epoch 50: 65.59468460083008\n"
     ]
    }
   ],
   "source": [
    "acosts = model(images,encodings,lr=0.0001,num_epochs=50,retrain=False)"
   ]
  },
  {
   "cell_type": "code",
   "execution_count": 13,
   "metadata": {
    "scrolled": true
   },
   "outputs": [
    {
     "name": "stdout",
     "output_type": "stream",
     "text": [
      "INFO:tensorflow:Restoring parameters from ../data/kwf/model/yolo_model.ckpt\n",
      "Cost at epoch 1: 64.14051628112793\n",
      "Cost at epoch 2: 63.77328300476074\n",
      "Cost at epoch 3: 63.65685844421387\n",
      "Cost at epoch 4: 63.48127555847168\n",
      "Cost at epoch 5: 63.170278549194336\n",
      "Cost at epoch 6: 63.17909240722656\n",
      "Cost at epoch 7: 62.913835525512695\n",
      "Cost at epoch 8: 62.68352127075195\n",
      "Cost at epoch 9: 62.61834526062012\n",
      "Cost at epoch 10: 62.37942314147949\n",
      "Cost at epoch 11: 62.22894477844238\n",
      "Cost at epoch 12: 61.98476028442383\n",
      "Cost at epoch 13: 61.874237060546875\n",
      "Cost at epoch 14: 61.67460632324219\n",
      "Cost at epoch 15: 61.44891929626465\n",
      "Cost at epoch 16: 61.24675750732422\n",
      "Cost at epoch 17: 61.0467643737793\n",
      "Cost at epoch 18: 60.87453269958496\n",
      "Cost at epoch 19: 60.654693603515625\n",
      "Cost at epoch 20: 60.42856407165527\n",
      "Cost at epoch 21: 60.17563247680664\n",
      "Cost at epoch 22: 59.95083999633789\n",
      "Cost at epoch 23: 59.746028900146484\n",
      "Cost at epoch 24: 59.49673843383789\n",
      "Cost at epoch 25: 59.28770637512207\n",
      "Cost at epoch 26: 59.03484344482422\n",
      "Cost at epoch 27: 58.77596855163574\n",
      "Cost at epoch 28: 58.52692794799805\n",
      "Cost at epoch 29: 58.26577377319336\n",
      "Cost at epoch 30: 57.99110794067383\n",
      "Cost at epoch 31: 57.73004913330078\n",
      "Cost at epoch 32: 57.439788818359375\n",
      "Cost at epoch 33: 57.178279876708984\n",
      "Cost at epoch 34: 56.89818000793457\n",
      "Cost at epoch 35: 56.563419342041016\n",
      "Cost at epoch 36: 56.278717041015625\n",
      "Cost at epoch 37: 55.95097541809082\n",
      "Cost at epoch 38: 55.65520095825195\n",
      "Cost at epoch 39: 55.32168769836426\n",
      "Cost at epoch 40: 55.03747367858887\n",
      "Cost at epoch 41: 54.72395896911621\n",
      "Cost at epoch 42: 54.376258850097656\n",
      "Cost at epoch 43: 54.1305046081543\n",
      "Cost at epoch 44: 53.76358413696289\n",
      "Cost at epoch 45: 53.941240310668945\n",
      "Cost at epoch 46: 53.4114990234375\n",
      "Cost at epoch 47: 52.914794921875\n",
      "Cost at epoch 48: 52.87235069274902\n",
      "Cost at epoch 49: 52.66159439086914\n",
      "Cost at epoch 50: 52.69327354431152\n"
     ]
    }
   ],
   "source": [
    "acosts = model(images,encodings,lr=0.00001,num_epochs=50,retrain=True)"
   ]
  },
  {
   "cell_type": "code",
   "execution_count": 26,
   "metadata": {
    "scrolled": true
   },
   "outputs": [
    {
     "name": "stdout",
     "output_type": "stream",
     "text": [
      "INFO:tensorflow:Restoring parameters from ../data/kwf/model/yolo_model.ckpt\n",
      "Cost at epoch 1: 52.808074951171875\n",
      "Cost at epoch 2: 51.966949462890625\n",
      "Cost at epoch 3: 51.487064361572266\n",
      "Cost at epoch 4: 51.02587699890137\n",
      "Cost at epoch 5: 50.677053451538086\n",
      "Cost at epoch 6: 50.47210884094238\n",
      "Cost at epoch 7: 50.12116622924805\n",
      "Cost at epoch 8: 49.76201820373535\n",
      "Cost at epoch 9: 49.53515625\n",
      "Cost at epoch 10: 49.24631690979004\n",
      "Cost at epoch 11: 48.90488243103027\n",
      "Cost at epoch 12: 48.72770309448242\n",
      "Cost at epoch 13: 48.451303482055664\n",
      "Cost at epoch 14: 48.04347801208496\n",
      "Cost at epoch 15: 47.72288131713867\n",
      "Cost at epoch 16: 47.45479202270508\n",
      "Cost at epoch 17: 47.15230751037598\n",
      "Cost at epoch 18: 46.947792053222656\n",
      "Cost at epoch 19: 46.480363845825195\n",
      "Cost at epoch 20: 46.12640380859375\n",
      "Cost at epoch 21: 45.84458351135254\n",
      "Cost at epoch 22: 45.52786636352539\n",
      "Cost at epoch 23: 45.16706466674805\n",
      "Cost at epoch 24: 44.944515228271484\n",
      "Cost at epoch 25: 44.65936470031738\n",
      "Cost at epoch 26: 44.61089897155762\n",
      "Cost at epoch 27: 44.32308387756348\n",
      "Cost at epoch 28: 43.76529312133789\n",
      "Cost at epoch 29: 43.34459114074707\n",
      "Cost at epoch 30: 43.05984878540039\n",
      "Cost at epoch 31: 42.815956115722656\n",
      "Cost at epoch 32: 42.37212371826172\n",
      "Cost at epoch 33: 42.409236907958984\n",
      "Cost at epoch 34: 42.29578971862793\n",
      "Cost at epoch 35: 41.82644844055176\n",
      "Cost at epoch 36: 41.40396499633789\n",
      "Cost at epoch 37: 41.386762619018555\n",
      "Cost at epoch 38: 40.58479118347168\n",
      "Cost at epoch 39: 40.20236015319824\n",
      "Cost at epoch 40: 40.01287269592285\n",
      "Cost at epoch 41: 39.57106018066406\n",
      "Cost at epoch 42: 39.13101577758789\n",
      "Cost at epoch 43: 38.823102951049805\n",
      "Cost at epoch 44: 38.48723602294922\n",
      "Cost at epoch 45: 38.74009323120117\n",
      "Cost at epoch 46: 37.83427810668945\n",
      "Cost at epoch 47: 37.62266445159912\n",
      "Cost at epoch 48: 37.40215873718262\n",
      "Cost at epoch 49: 36.76782035827637\n",
      "Cost at epoch 50: 36.52093315124512\n"
     ]
    }
   ],
   "source": [
    "acosts = model(images,encodings,lr=0.00001,num_epochs=50,retrain=True)"
   ]
  },
  {
   "cell_type": "code",
   "execution_count": 27,
   "metadata": {
    "scrolled": true
   },
   "outputs": [
    {
     "name": "stdout",
     "output_type": "stream",
     "text": [
      "INFO:tensorflow:Restoring parameters from ../data/kwf/model/yolo_model.ckpt\n",
      "Cost at epoch 1: 36.648576736450195\n",
      "Cost at epoch 2: 36.065091133117676\n",
      "Cost at epoch 3: 36.19936943054199\n",
      "Cost at epoch 4: 35.57183265686035\n",
      "Cost at epoch 5: 35.73850727081299\n",
      "Cost at epoch 6: 35.5330228805542\n",
      "Cost at epoch 7: 35.06141471862793\n",
      "Cost at epoch 8: 34.27318286895752\n",
      "Cost at epoch 9: 34.34430122375488\n",
      "Cost at epoch 10: 34.4985466003418\n",
      "Cost at epoch 11: 33.242770195007324\n",
      "Cost at epoch 12: 33.31678867340088\n",
      "Cost at epoch 13: 32.69247817993164\n",
      "Cost at epoch 14: 32.05473518371582\n",
      "Cost at epoch 15: 31.676522254943848\n",
      "Cost at epoch 16: 31.674819946289062\n",
      "Cost at epoch 17: 30.839513778686523\n",
      "Cost at epoch 18: 30.580183029174805\n",
      "Cost at epoch 19: 30.79055881500244\n",
      "Cost at epoch 20: 29.776832580566406\n",
      "Cost at epoch 21: 29.879765510559082\n",
      "Cost at epoch 22: 29.188100814819336\n",
      "Cost at epoch 23: 28.870656967163086\n",
      "Cost at epoch 24: 28.706438064575195\n",
      "Cost at epoch 25: 28.391298294067383\n",
      "Cost at epoch 26: 28.461512565612793\n",
      "Cost at epoch 27: 27.54370403289795\n",
      "Cost at epoch 28: 27.50558853149414\n",
      "Cost at epoch 29: 27.093656539916992\n",
      "Cost at epoch 30: 26.650909423828125\n",
      "Cost at epoch 31: 26.48727035522461\n",
      "Cost at epoch 32: 26.527442932128906\n",
      "Cost at epoch 33: 26.259203910827637\n",
      "Cost at epoch 34: 26.225727081298828\n",
      "Cost at epoch 35: 25.683467864990234\n",
      "Cost at epoch 36: 25.712824821472168\n",
      "Cost at epoch 37: 24.63217544555664\n",
      "Cost at epoch 38: 24.610587120056152\n",
      "Cost at epoch 39: 24.27351474761963\n",
      "Cost at epoch 40: 24.194714546203613\n",
      "Cost at epoch 41: 23.786993980407715\n",
      "Cost at epoch 42: 23.457438468933105\n",
      "Cost at epoch 43: 23.215011596679688\n",
      "Cost at epoch 44: 22.85440158843994\n",
      "Cost at epoch 45: 23.125030517578125\n",
      "Cost at epoch 46: 22.380565643310547\n",
      "Cost at epoch 47: 22.209272384643555\n",
      "Cost at epoch 48: 22.024367332458496\n",
      "Cost at epoch 49: 22.166658401489258\n",
      "Cost at epoch 50: 22.159637451171875\n"
     ]
    }
   ],
   "source": [
    "acosts = model(images,encodings,lr=0.00001,num_epochs=50,retrain=True)"
   ]
  },
  {
   "cell_type": "code",
   "execution_count": 28,
   "metadata": {
    "scrolled": true
   },
   "outputs": [
    {
     "name": "stdout",
     "output_type": "stream",
     "text": [
      "INFO:tensorflow:Restoring parameters from ../data/kwf/model/yolo_model.ckpt\n",
      "Cost at epoch 1: 22.059093475341797\n",
      "Cost at epoch 2: 21.63042163848877\n",
      "Cost at epoch 3: 21.034655570983887\n",
      "Cost at epoch 4: 20.888023376464844\n",
      "Cost at epoch 5: 20.708890914916992\n",
      "Cost at epoch 6: 20.651517868041992\n",
      "Cost at epoch 7: 20.481494903564453\n",
      "Cost at epoch 8: 20.445767402648926\n",
      "Cost at epoch 9: 20.367380142211914\n",
      "Cost at epoch 10: 20.068395137786865\n",
      "Cost at epoch 11: 20.197855472564697\n",
      "Cost at epoch 12: 19.914294242858887\n",
      "Cost at epoch 13: 20.03656816482544\n",
      "Cost at epoch 14: 19.988656044006348\n",
      "Cost at epoch 15: 19.525298595428467\n",
      "Cost at epoch 16: 19.817681789398193\n",
      "Cost at epoch 17: 19.38017988204956\n",
      "Cost at epoch 18: 19.64138698577881\n",
      "Cost at epoch 19: 19.684982776641846\n",
      "Cost at epoch 20: 19.72266387939453\n",
      "Cost at epoch 21: 18.9419903755188\n",
      "Cost at epoch 22: 19.094377517700195\n",
      "Cost at epoch 23: 18.74910020828247\n",
      "Cost at epoch 24: 18.937695503234863\n",
      "Cost at epoch 25: 18.982796669006348\n",
      "Cost at epoch 26: 18.483599185943604\n",
      "Cost at epoch 27: 18.535457611083984\n",
      "Cost at epoch 28: 18.171259880065918\n",
      "Cost at epoch 29: 18.206682682037354\n",
      "Cost at epoch 30: 18.104979515075684\n",
      "Cost at epoch 31: 18.14091157913208\n",
      "Cost at epoch 32: 17.80563259124756\n",
      "Cost at epoch 33: 17.696160316467285\n",
      "Cost at epoch 34: 17.76970672607422\n",
      "Cost at epoch 35: 17.773962020874023\n",
      "Cost at epoch 36: 17.625104904174805\n",
      "Cost at epoch 37: 17.722569465637207\n",
      "Cost at epoch 38: 17.230807304382324\n",
      "Cost at epoch 39: 17.325815200805664\n",
      "Cost at epoch 40: 17.256474018096924\n",
      "Cost at epoch 41: 17.138455390930176\n",
      "Cost at epoch 42: 17.01388168334961\n",
      "Cost at epoch 43: 16.878353118896484\n",
      "Cost at epoch 44: 16.796488761901855\n",
      "Cost at epoch 45: 16.700239658355713\n",
      "Cost at epoch 46: 16.57222843170166\n",
      "Cost at epoch 47: 16.454838752746582\n",
      "Cost at epoch 48: 16.40613031387329\n",
      "Cost at epoch 49: 16.38650369644165\n",
      "Cost at epoch 50: 16.415831089019775\n"
     ]
    }
   ],
   "source": [
    "acosts = model(images,encodings,lr=0.000005,num_epochs=50,retrain=True)"
   ]
  },
  {
   "cell_type": "code",
   "execution_count": 29,
   "metadata": {
    "scrolled": true
   },
   "outputs": [
    {
     "name": "stdout",
     "output_type": "stream",
     "text": [
      "INFO:tensorflow:Restoring parameters from ../data/kwf/model/yolo_model.ckpt\n",
      "Cost at epoch 1: 16.197260856628418\n",
      "Cost at epoch 2: 15.973209381103516\n",
      "Cost at epoch 3: 15.879683017730713\n",
      "Cost at epoch 4: 15.966099739074707\n",
      "Cost at epoch 5: 15.850338459014893\n",
      "Cost at epoch 6: 15.622607231140137\n",
      "Cost at epoch 7: 15.527256488800049\n",
      "Cost at epoch 8: 15.400296211242676\n",
      "Cost at epoch 9: 15.340882301330566\n",
      "Cost at epoch 10: 15.262351512908936\n",
      "Cost at epoch 11: 15.131820678710938\n",
      "Cost at epoch 12: 15.063595294952393\n",
      "Cost at epoch 13: 15.001181602478027\n",
      "Cost at epoch 14: 14.896142959594727\n",
      "Cost at epoch 15: 14.803203582763672\n",
      "Cost at epoch 16: 14.697873592376709\n",
      "Cost at epoch 17: 14.647832870483398\n",
      "Cost at epoch 18: 14.602721214294434\n",
      "Cost at epoch 19: 14.48607349395752\n",
      "Cost at epoch 20: 14.477921485900879\n",
      "Cost at epoch 21: 14.509167671203613\n",
      "Cost at epoch 22: 14.430540561676025\n",
      "Cost at epoch 23: 14.3765869140625\n",
      "Cost at epoch 24: 14.142442226409912\n",
      "Cost at epoch 25: 13.961251735687256\n",
      "Cost at epoch 26: 13.95555067062378\n",
      "Cost at epoch 27: 13.782485485076904\n",
      "Cost at epoch 28: 13.766956329345703\n",
      "Cost at epoch 29: 13.688499927520752\n",
      "Cost at epoch 30: 13.629822254180908\n",
      "Cost at epoch 31: 13.659538745880127\n",
      "Cost at epoch 32: 13.50853157043457\n",
      "Cost at epoch 33: 13.32480239868164\n",
      "Cost at epoch 34: 13.230300426483154\n",
      "Cost at epoch 35: 13.141841888427734\n",
      "Cost at epoch 36: 13.063175678253174\n",
      "Cost at epoch 37: 13.04550552368164\n",
      "Cost at epoch 38: 12.979997634887695\n",
      "Cost at epoch 39: 13.029030323028564\n",
      "Cost at epoch 40: 12.88705825805664\n",
      "Cost at epoch 41: 12.702994346618652\n",
      "Cost at epoch 42: 12.605164051055908\n",
      "Cost at epoch 43: 12.51628828048706\n",
      "Cost at epoch 44: 12.417383193969727\n",
      "Cost at epoch 45: 12.332473754882812\n",
      "Cost at epoch 46: 12.226988792419434\n",
      "Cost at epoch 47: 12.165855884552002\n",
      "Cost at epoch 48: 12.101008415222168\n",
      "Cost at epoch 49: 12.027291774749756\n",
      "Cost at epoch 50: 11.998603820800781\n"
     ]
    }
   ],
   "source": [
    "acosts = model(images,encodings,lr=0.000005,num_epochs=50,retrain=True)"
   ]
  },
  {
   "cell_type": "code",
   "execution_count": 32,
   "metadata": {
    "scrolled": true
   },
   "outputs": [
    {
     "name": "stdout",
     "output_type": "stream",
     "text": [
      "INFO:tensorflow:Restoring parameters from ../data/kwf/model/yolo_model.ckpt\n",
      "Cost at epoch 1: 12.088380336761475\n",
      "Cost at epoch 2: 12.043171405792236\n",
      "Cost at epoch 3: 11.800342082977295\n",
      "Cost at epoch 4: 11.676506042480469\n",
      "Cost at epoch 5: 11.606095314025879\n",
      "Cost at epoch 6: 11.521651268005371\n",
      "Cost at epoch 7: 11.480017185211182\n",
      "Cost at epoch 8: 11.397210597991943\n",
      "Cost at epoch 9: 11.322280406951904\n",
      "Cost at epoch 10: 11.146013736724854\n",
      "Cost at epoch 11: 11.145286083221436\n",
      "Cost at epoch 12: 10.990074157714844\n",
      "Cost at epoch 13: 10.913067817687988\n",
      "Cost at epoch 14: 10.92157793045044\n",
      "Cost at epoch 15: 10.810755252838135\n",
      "Cost at epoch 16: 10.80528450012207\n",
      "Cost at epoch 17: 10.621950626373291\n",
      "Cost at epoch 18: 10.535685539245605\n",
      "Cost at epoch 19: 10.576648712158203\n",
      "Cost at epoch 20: 10.384016513824463\n",
      "Cost at epoch 21: 10.335992813110352\n",
      "Cost at epoch 22: 10.315844058990479\n",
      "Cost at epoch 23: 10.2562575340271\n",
      "Cost at epoch 24: 10.373811721801758\n",
      "Cost at epoch 25: 10.313686847686768\n",
      "Cost at epoch 26: 10.663712501525879\n",
      "Cost at epoch 27: 10.39881706237793\n",
      "Cost at epoch 28: 10.929661273956299\n",
      "Cost at epoch 29: 10.794107437133789\n",
      "Cost at epoch 30: 11.326348781585693\n",
      "Cost at epoch 31: 10.363751888275146\n",
      "Cost at epoch 32: 10.450464248657227\n",
      "Cost at epoch 33: 10.362354278564453\n",
      "Cost at epoch 34: 9.721900939941406\n",
      "Cost at epoch 35: 9.815064907073975\n",
      "Cost at epoch 36: 9.486218214035034\n",
      "Cost at epoch 37: 9.426692008972168\n",
      "Cost at epoch 38: 9.22410273551941\n",
      "Cost at epoch 39: 9.221581220626831\n",
      "Cost at epoch 40: 9.127443790435791\n",
      "Cost at epoch 41: 9.010957717895508\n",
      "Cost at epoch 42: 8.965256452560425\n",
      "Cost at epoch 43: 8.950146913528442\n",
      "Cost at epoch 44: 8.937601089477539\n",
      "Cost at epoch 45: 8.789321899414062\n",
      "Cost at epoch 46: 8.701664924621582\n",
      "Cost at epoch 47: 8.637550830841064\n",
      "Cost at epoch 48: 8.566589117050171\n",
      "Cost at epoch 49: 8.488870620727539\n",
      "Cost at epoch 50: 8.450676679611206\n"
     ]
    }
   ],
   "source": [
    "acosts = model(images,encodings,lr=0.000005,num_epochs=50,retrain=True)"
   ]
  },
  {
   "cell_type": "markdown",
   "metadata": {},
   "source": [
    "### Model inference"
   ]
  },
  {
   "cell_type": "code",
   "execution_count": 305,
   "metadata": {},
   "outputs": [],
   "source": [
    "# Finds the class with the highest probability for any given 19x19 cell - and returns associated bounding boxes\n",
    "# boxes are updated to be (y1,x1,y2,x2)\n",
    "def filter_boxes(Z,threshold=0.6):\n",
    "    scores = Z[0,:,:,0:1] # 19x19x1\n",
    "    boxes = Z[0,:,:,1:5] # 19x19x4\n",
    "    class_probs = Z[0,:,:,5:] # 19x19x24\n",
    "    \n",
    "    box_scores = scores * class_probs # 19x19x24\n",
    "    box_classes = K.argmax(box_scores, axis = -1) # get the class corresponding to max value for cell, 19x19x1\n",
    "    box_class_scores = K.max(box_scores, axis = -1) # get the max predicted value for the cell, 19x19x1\n",
    "    \n",
    "    mask = box_class_scores >= threshold # getting all values that meet a certain predictive threshold\n",
    "    scores = tf.boolean_mask(box_class_scores, mask) # shape: (None,1)\n",
    "    boxes = tf.boolean_mask(boxes, mask) # shape: (None,4)\n",
    "    classes = tf.boolean_mask(box_classes, mask) # shape: (None,1)\n",
    "    \n",
    "    # scaling boxes and changing to (y1,x1,y2,x2) format\n",
    "    coords = tf.where(tf.equal(mask,True)) # coordinates of boxes that met threshold\n",
    "    width = tf.multiply(boxes[:,2],608)\n",
    "    height = tf.multiply(boxes[:,3],608)\n",
    "    width = tf.cast(width,tf.float32)\n",
    "    height = tf.cast(height,tf.float32)\n",
    "    elems = (coords,boxes) # holds the coordinates of where each final bounding box is located\n",
    "    x1 = tf.map_fn(lambda elem: tf.cast(32*elem[1][0],tf.int64)+tf.cast(32*(elem[0][0]-1),tf.int64),elems,tf.int64)\n",
    "    y1 = tf.map_fn(lambda elem: tf.cast(32*elem[1][1],tf.int64)+tf.cast(32*(elem[0][1]-1),tf.int64),elems,tf.int64)\n",
    "    x1 = tf.cast(x1,tf.float32)\n",
    "    y1 = tf.cast(y1,tf.float32)\n",
    "    y2 = y1 + height\n",
    "    x2 = x1 + width\n",
    "    boxes = tf.stack([y1,x1,y2,x2],axis=-1)\n",
    "    \n",
    "    return (scores, classes, boxes)"
   ]
  },
  {
   "cell_type": "code",
   "execution_count": 306,
   "metadata": {},
   "outputs": [],
   "source": [
    "# Finds a set number of the most probable bounding boxes for a given image\n",
    "def non_max_suppression(scores,classes,boxes,max_boxes=10,iou_thresh=0.5):\n",
    "    \n",
    "    nms_indices = tf.image.non_max_suppression(boxes,scores,max_boxes,iou_thresh)\n",
    "    scores = K.gather(scores, nms_indices)\n",
    "    boxes = K.gather(boxes, nms_indices)\n",
    "    classes = K.gather(classes, nms_indices)\n",
    "    \n",
    "    return (scores,boxes,classes)"
   ]
  },
  {
   "cell_type": "code",
   "execution_count": 307,
   "metadata": {},
   "outputs": [],
   "source": [
    "# filters out insignificant cell predictions and also performs non-max-suppression\n",
    "def yolo_eval(Z):\n",
    "    (scores,classes,boxes) = filter_boxes(Z) # get most probable classes per cell\n",
    "    (scores,boxes,classes) = non_max_suppression(scores,classes,boxes)\n",
    "    return (scores,classes,boxes)"
   ]
  },
  {
   "cell_type": "code",
   "execution_count": 308,
   "metadata": {},
   "outputs": [
    {
     "name": "stdout",
     "output_type": "stream",
     "text": [
      "INFO:tensorflow:Restoring parameters from ../data/kwf/model/yolo_model.ckpt\n",
      "(10,)\n",
      "(10,)\n",
      "(10, 4)\n"
     ]
    }
   ],
   "source": [
    "# Testing forward prop\n",
    "tf.reset_default_graph()\n",
    "ax = images[0,:,:,:]\n",
    "ax.shape = (1,608,608,3)\n",
    "\n",
    "X,y = get_placeholders(608,608,3,19,19,29)\n",
    "Z = forward_pass(X)\n",
    "answ = yolo_eval(Z)\n",
    "\n",
    "saver = tf.train.Saver()\n",
    "with tf.Session() as sess:\n",
    "    saver = tf.train.import_meta_graph(\"../data/kwf/model/yolo_model.ckpt.meta\")\n",
    "    saver.restore(sess, \"../data/kwf/model/yolo_model.ckpt\")\n",
    "    aansw = sess.run(answ,feed_dict={X:ax})\n",
    "    print(aansw[0].shape)\n",
    "    print(aansw[1].shape)\n",
    "    print(aansw[2].shape)"
   ]
  },
  {
   "cell_type": "code",
   "execution_count": 309,
   "metadata": {},
   "outputs": [],
   "source": [
    "import matplotlib.pyplot as plt\n",
    "import matplotlib.patches as patches\n",
    "%matplotlib inline"
   ]
  },
  {
   "cell_type": "code",
   "execution_count": 310,
   "metadata": {},
   "outputs": [],
   "source": [
    "scores = aansw[0]\n",
    "classes = aansw[1]\n",
    "boxes = aansw[2]"
   ]
  },
  {
   "cell_type": "code",
   "execution_count": 311,
   "metadata": {},
   "outputs": [],
   "source": [
    "img = ax # getting the image back into valid shape and type\n",
    "img = img * 254\n",
    "img.shape = (608,608,3)\n",
    "img = img.astype(int)"
   ]
  },
  {
   "cell_type": "code",
   "execution_count": 312,
   "metadata": {},
   "outputs": [
    {
     "data": {
      "image/png": "[encoded data removed]",
      "text/plain": [
       "<Figure size 432x288 with 1 Axes>"
      ]
     },
     "metadata": {},
     "output_type": "display_data"
    }
   ],
   "source": [
    "fig,ax = plt.subplots(1)\n",
    "ax.imshow(img)\n",
    "for box in boxes: # (y1,x1,y2,x2)\n",
    "    x1 = box[1]\n",
    "    y1 = box[0]\n",
    "    width = box[3] - x1\n",
    "    height = box[2] - y1\n",
    "    rect = patches.Rectangle((x1,y1),width,height,linewidth=1,edgecolor='r',facecolor='none')\n",
    "    ax.add_patch(rect)\n",
    "    \n",
    "plt.show()"
   ]
  },
  {
   "cell_type": "code",
   "execution_count": 313,
   "metadata": {},
   "outputs": [
    {
     "data": {
      "text/plain": [
       "array([1.1087765 , 1.0741793 , 0.996112  , 0.95954216, 0.9221734 ,\n",
       "       0.91757053, 0.865166  , 0.808822  , 0.8065409 , 0.6801073 ],\n",
       "      dtype=float32)"
      ]
     },
     "execution_count": 313,
     "metadata": {},
     "output_type": "execute_result"
    }
   ],
   "source": [
    "scores"
   ]
  },
  {
   "cell_type": "code",
   "execution_count": 314,
   "metadata": {},
   "outputs": [
    {
     "data": {
      "text/plain": [
       "array([15, 15, 15, 15, 15, 15, 15,  1, 15, 15])"
      ]
     },
     "execution_count": 314,
     "metadata": {},
     "output_type": "execute_result"
    }
   ],
   "source": [
    "classes"
   ]
  }
 ],
 "metadata": {
  "kernelspec": {
   "display_name": "Python 3",
   "language": "python",
   "name": "python3"
  },
  "language_info": {
   "codemirror_mode": {
    "name": "ipython",
    "version": 3
   },
   "file_extension": ".py",
   "mimetype": "text/x-python",
   "name": "python",
   "nbconvert_exporter": "python",
   "pygments_lexer": "ipython3",
   "version": "3.6.5"
  }
 },
 "nbformat": 4,
 "nbformat_minor": 2
}
